{
 "cells": [
  {
   "cell_type": "markdown",
   "metadata": {
    "collapsed": true
   },
   "source": [
    "### QUESTION:1 Create a numpy array with 10 elements of the shape(10,1) using np.random and find out the mean of the elements using basic numpy functions.\n"
   ]
  },
  {
   "cell_type": "code",
   "execution_count": 2,
   "metadata": {},
   "outputs": [
    {
     "name": "stdout",
     "output_type": "stream",
     "text": [
      "The array is  [[0.59647137]\n",
      " [0.6587344 ]\n",
      " [0.10778922]\n",
      " [0.03250751]\n",
      " [0.11305163]\n",
      " [0.23201822]\n",
      " [0.38646984]\n",
      " [0.3810411 ]\n",
      " [0.26821395]\n",
      " [0.88245003]]\n",
      "The mean of the elements is  0.36587472634108315\n"
     ]
    }
   ],
   "source": [
    "import numpy as np\n",
    "array=np.random.rand(10,1)\n",
    "print(\"The array is \",array)\n",
    "print(\"The mean of the elements is \",array.mean())\n"
   ]
  },
  {
   "cell_type": "markdown",
   "metadata": {},
   "source": [
    "### QUESTION:2 Q.2 - Create a numpy array with 20 elements of the shape(20,1) using np.random find the variance and standard deviation of the elements.\n"
   ]
  },
  {
   "cell_type": "code",
   "execution_count": 3,
   "metadata": {},
   "outputs": [
    {
     "name": "stdout",
     "output_type": "stream",
     "text": [
      "The array is  [[0.23866853]\n",
      " [0.62319733]\n",
      " [0.5169103 ]\n",
      " [0.16966971]\n",
      " [0.72216371]\n",
      " [0.30145695]\n",
      " [0.00896928]\n",
      " [0.89968694]\n",
      " [0.3616882 ]\n",
      " [0.44669925]\n",
      " [0.94673934]\n",
      " [0.11231106]\n",
      " [0.24200376]\n",
      " [0.57296004]\n",
      " [0.99260702]\n",
      " [0.16643838]\n",
      " [0.3983063 ]\n",
      " [0.169122  ]\n",
      " [0.90093484]\n",
      " [0.42640521]]\n",
      "The variance of the elements is  0.08677501445746075\n",
      "The standard deviation of the elements is  0.2945759909725515\n"
     ]
    }
   ],
   "source": [
    "import numpy as np\n",
    "array=np.random.rand(20,1)\n",
    "print(\"The array is \",array)\n",
    "print(\"The variance of the elements is \",array.var())\n",
    "print(\"The standard deviation of the elements is \",array.std())"
   ]
  },
  {
   "cell_type": "markdown",
   "metadata": {},
   "source": [
    "### QUESTION:3 Create a numpy array A of shape(10,20) and B of shape (20,25) using np.random. Print the matrix which is the matrix multiplication of A and B. The shape of the new matrix should be (10,25). Using basic numpy math functions only find the sum of all the elements of the new matrix."
   ]
  },
  {
   "cell_type": "code",
   "execution_count": 4,
   "metadata": {},
   "outputs": [
    {
     "name": "stdout",
     "output_type": "stream",
     "text": [
      "The multiplication of array A and B is arrayC  [[5.61136266 3.36528118 3.61042617 6.60562499 4.05466177 5.8855785\n",
      "  5.20221654 5.0062081  4.8299886  4.25107356 5.42826954 4.74581638\n",
      "  4.64101362 5.47582098 5.10235796 4.09833763 4.8214832  4.57134402\n",
      "  4.61486528 4.57135158 4.92068759 4.55488978 4.60784998 5.51598501\n",
      "  4.45320035]\n",
      " [4.57055755 3.59398752 3.71021885 6.1072209  3.87501544 4.5273032\n",
      "  4.34521188 4.90833418 4.79001764 4.43283085 4.17675655 3.85288736\n",
      "  4.04800237 4.91025111 4.64271276 4.27477304 4.46925271 4.05673386\n",
      "  4.67963501 3.48407925 4.3449698  4.03190888 3.62542944 5.6316029\n",
      "  4.24432096]\n",
      " [5.11026784 2.46071345 3.50690326 5.35351794 3.90381757 4.67629229\n",
      "  4.1665449  4.33135121 5.00746261 3.9553846  4.02682049 4.03669561\n",
      "  3.6845793  4.38966882 4.13273921 3.69342443 3.838219   3.52115688\n",
      "  3.9414268  4.00766233 4.46923537 3.35871817 3.94845011 4.7123856\n",
      "  3.86469137]\n",
      " [4.85068611 2.35584409 3.17447319 4.98804721 2.92509356 5.30969507\n",
      "  3.82641011 4.5923006  4.59345518 4.40739093 4.56029744 4.37304763\n",
      "  3.96918968 4.98183412 4.35743048 3.81490029 5.08053216 3.72544704\n",
      "  3.82038134 4.07103103 3.18403349 3.79526987 3.61913793 5.00565029\n",
      "  2.98383679]\n",
      " [4.80724764 3.57892685 3.31084064 5.24264307 3.39767122 4.85635423\n",
      "  3.86975006 4.75514664 4.40914428 4.15086883 4.14570922 4.23063874\n",
      "  3.81191895 4.96609745 4.76686669 3.81263564 4.3377422  4.44197395\n",
      "  4.60167726 4.09539012 4.04101371 4.20774746 4.28399173 5.27293564\n",
      "  3.86983895]\n",
      " [6.23466055 3.17046899 4.01571335 6.29725862 4.49424616 6.29135293\n",
      "  4.3123552  4.72555303 6.18084872 4.9964227  4.35299483 4.86808824\n",
      "  4.25134342 6.1834945  5.35651957 4.61769161 5.54246175 4.76121312\n",
      "  5.13196037 4.17332265 4.53292341 4.73736158 4.5642945  5.35376907\n",
      "  4.82397355]\n",
      " [7.05595277 3.91470134 3.73823436 7.66222405 5.007082   7.35943917\n",
      "  5.15960617 6.18470221 6.67520205 5.74773015 5.47994093 6.19540683\n",
      "  6.17004965 6.52306652 6.22256861 5.41700322 6.94455213 4.64972346\n",
      "  5.44039953 5.51488905 5.37699284 5.54514879 6.3477018  5.89067571\n",
      "  5.61740642]\n",
      " [6.49847443 3.14955066 4.58167274 7.05521792 4.30529144 5.88350371\n",
      "  5.65094769 5.30123631 5.37413073 5.72941432 4.93970983 5.31839824\n",
      "  5.32003377 6.15507105 5.94089824 4.39989787 5.44972777 5.13662573\n",
      "  5.10894877 4.89842936 5.50302202 4.88439508 6.10196216 5.61278795\n",
      "  5.74224219]\n",
      " [4.6208671  2.78895162 3.92455658 6.15510903 4.39249669 4.56891152\n",
      "  4.7517495  4.91057013 4.78842927 4.74910815 4.2363254  3.92005735\n",
      "  4.53103856 5.53539798 4.76636066 3.93980565 4.9786171  3.51521336\n",
      "  4.68086146 4.49609741 4.69089033 3.68021469 4.30124649 4.85646012\n",
      "  4.8603663 ]\n",
      " [5.99382948 4.33466087 4.3898951  7.61199716 5.09417884 5.67927168\n",
      "  5.34339024 6.15581789 5.87225463 5.59224967 4.65083571 4.91505264\n",
      "  5.62589717 6.19145042 5.55706676 5.41851428 5.28727742 4.64296609\n",
      "  5.65386347 4.57297003 5.68967676 5.27223327 5.05917981 6.60849534\n",
      "  5.68402305]]\n",
      "The sum of arrayC elements is  1194.997057383497\n"
     ]
    }
   ],
   "source": [
    "import numpy as np\n",
    "arrayA=np.random.rand(10,20)\n",
    "arrayB=np.random.rand(20,25)\n",
    "arrayC=np.matmul(arrayA,arrayB)\n",
    "print(\"The multiplication of array A and B is arrayC \",arrayC)\n",
    "print(\"The sum of arrayC elements is \",arrayC.sum())"
   ]
  },
  {
   "cell_type": "markdown",
   "metadata": {},
   "source": [
    "### QUESTION:4 Create a numpy array A of shape(10,1).Using the basic operations of the numpy array generate an array of shape(10,1) such that each element is the following function applied on each element of A."
   ]
  },
  {
   "cell_type": "code",
   "execution_count": 5,
   "metadata": {},
   "outputs": [
    {
     "name": "stdout",
     "output_type": "stream",
     "text": [
      "[[0.11462477]\n",
      " [0.07020075]\n",
      " [0.34230602]\n",
      " [0.29919118]\n",
      " [0.84139601]\n",
      " [0.32741571]\n",
      " [0.6277628 ]\n",
      " [0.66959962]\n",
      " [0.1719061 ]\n",
      " [0.6908917 ]]\n",
      "[[0.52862486]\n",
      " [0.51754298]\n",
      " [0.58475057]\n",
      " [0.57424478]\n",
      " [0.69875915]\n",
      " [0.58113045]\n",
      " [0.65198201]\n",
      " [0.6614135 ]\n",
      " [0.542871  ]\n",
      " [0.66616526]]\n"
     ]
    }
   ],
   "source": [
    "import numpy as np\n",
    "import math\n",
    "A=np.random.rand(10,1)\n",
    "print(A)\n",
    "def func(x):\n",
    "    return(1/(1 + np.exp(-x)))\n",
    "result=np.apply_along_axis(func, 0, A)\n",
    "print(result)"
   ]
  },
  {
   "cell_type": "code",
   "execution_count": null,
   "metadata": {},
   "outputs": [],
   "source": []
  },
  {
   "cell_type": "code",
   "execution_count": null,
   "metadata": {},
   "outputs": [],
   "source": []
  }
 ],
 "metadata": {
  "kernelspec": {
   "display_name": "Python 3",
   "language": "python",
   "name": "python3"
  },
  "language_info": {
   "codemirror_mode": {
    "name": "ipython",
    "version": 3
   },
   "file_extension": ".py",
   "mimetype": "text/x-python",
   "name": "python",
   "nbconvert_exporter": "python",
   "pygments_lexer": "ipython3",
   "version": "3.6.5"
  }
 },
 "nbformat": 4,
 "nbformat_minor": 1
}
